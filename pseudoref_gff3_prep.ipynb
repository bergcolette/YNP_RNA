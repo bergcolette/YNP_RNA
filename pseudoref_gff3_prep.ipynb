{
 "cells": [
  {
   "cell_type": "code",
   "execution_count": 9,
   "id": "11bc54f8",
   "metadata": {},
   "outputs": [],
   "source": [
    "#!pip install fsspec\n",
    "import fsspec\n",
    "import paramiko\n",
    "#!pip install paramiko"
   ]
  },
  {
   "cell_type": "code",
   "execution_count": 53,
   "id": "c5d51ded",
   "metadata": {},
   "outputs": [],
   "source": [
    "host='carnation.dbs.umt.edu'\n",
    "port=2229\n",
    "user='colette_berg'\n",
    "pw='50Cabbages'\n",
    "\n",
    "\n",
    "fs = fsspec.filesystem('ssh', host=host, port=port, username=user, password=pw)"
   ]
  },
  {
   "cell_type": "code",
   "execution_count": 72,
   "id": "41ea1d0a",
   "metadata": {},
   "outputs": [],
   "source": [
    "import pandas as pd\n",
    "\n",
    "with fs.open('./YNP_RNA/raw_data/fastqs/Mguttatus_256_v2.0.gene_exons.gff3') as f:\n",
    "    df = pd.read_csv(f, sep='\\t', names=['chromosome','source','feature_type','start_pos','end_pos', 'score','strand','frame','attribute'],skiprows=2)\n",
    "\n",
    "with fs.open('./YNP_RNA/raw_data/fastqs/Mguttatus_256_v2.0.gene_exons.gff3') as f:\n",
    "    df1 = pd.read_csv(f, sep='\\t', names=['chromosome','source','feature_type','start_pos','end_pos', 'score','strand','frame','attribute'],skiprows=2)\n",
    "    \n",
    "df['chromosome'] = df['chromosome'] + '_AHQT'\n",
    "df1['chromosome'] = df1['chromosome'] + '_AHQN'\n",
    "\n",
    "df1['attribute'] = df1['attribute'] + '; Name=AHQN'\n",
    "df['attribute'] = df['attribute'] + '; Name=AHQT'\n",
    "\n",
    "frames = [df, df1]\n",
    "df_merge = pd.concat(frames)"
   ]
  },
  {
   "cell_type": "code",
   "execution_count": 76,
   "id": "f034a80b",
   "metadata": {},
   "outputs": [],
   "source": [
    "df['chromosome'] = df['chromosome'] + '_AHQT'\n",
    "df1['chromosome'] = df1['chromosome'] + '_AHQN'\n",
    "\n",
    "df1['attribute'] = df1['attribute'] + '; Name=AHQN'\n",
    "df['attribute'] = df['attribute'] + '; Name=AHQT'"
   ]
  },
  {
   "cell_type": "code",
   "execution_count": null,
   "id": "5ee7e8c3",
   "metadata": {},
   "outputs": [],
   "source": [
    "with fs.open('./YNP_RNA/pseudo.gff3', 'w') as fp: \n",
    "    fp.write('##gff-version 3\\n##annot-version v2.0\\n')\n",
    "    df_merge.to_csv(fp, sep='\\t', index=False, header=False)\n"
   ]
  }
 ],
 "metadata": {
  "kernelspec": {
   "display_name": "Python 3 (ipykernel)",
   "language": "python",
   "name": "python3"
  },
  "language_info": {
   "codemirror_mode": {
    "name": "ipython",
    "version": 3
   },
   "file_extension": ".py",
   "mimetype": "text/x-python",
   "name": "python",
   "nbconvert_exporter": "python",
   "pygments_lexer": "ipython3",
   "version": "3.9.12"
  }
 },
 "nbformat": 4,
 "nbformat_minor": 5
}
